{
 "cells": [
  {
   "cell_type": "code",
   "execution_count": 1,
   "id": "742d9003",
   "metadata": {},
   "outputs": [],
   "source": [
    "from django.db import models\n",
    "from blog.models import Post"
   ]
  },
  {
   "cell_type": "code",
   "execution_count": 2,
   "id": "3a4148e0",
   "metadata": {},
   "outputs": [],
   "source": [
    "\"\"\"\n",
    ">>>fruit = Fru\n",
    "\"\"\"\n",
    "post_test_title = Post.objects.create(title=\"ok\")\n",
    "post_test_title.title = \"super\"\n",
    "post_test_title.save()"
   ]
  },
  {
   "cell_type": "code",
   "execution_count": 3,
   "id": "abbbe7cb",
   "metadata": {},
   "outputs": [
    {
     "data": {
      "text/plain": [
       "<QuerySet ['super']>"
      ]
     },
     "execution_count": 3,
     "metadata": {},
     "output_type": "execute_result"
    }
   ],
   "source": [
    "Post.objects.values_list(\"title\", flat=True)"
   ]
  },
  {
   "cell_type": "code",
   "execution_count": null,
   "id": "a5c00248",
   "metadata": {},
   "outputs": [],
   "source": []
  }
 ],
 "metadata": {
  "kernelspec": {
   "display_name": "Django Shell-Plus",
   "language": "python",
   "name": "django_extensions"
  },
  "language_info": {
   "codemirror_mode": {
    "name": "ipython",
    "version": 3
   },
   "file_extension": ".py",
   "mimetype": "text/x-python",
   "name": "python",
   "nbconvert_exporter": "python",
   "pygments_lexer": "ipython3",
   "version": "3.10.11"
  }
 },
 "nbformat": 4,
 "nbformat_minor": 5
}
