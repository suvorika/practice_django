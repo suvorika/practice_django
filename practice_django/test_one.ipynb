{
 "cells": [
  {
   "cell_type": "code",
   "execution_count": 1,
   "id": "74dad3ba",
   "metadata": {},
   "outputs": [],
   "source": [
    "from django.db import models\n",
    "from blog.models import Post"
   ]
  },
  {
   "cell_type": "code",
   "execution_count": 2,
   "id": "815cc663",
   "metadata": {},
   "outputs": [],
   "source": [
    "\"\"\"\n",
    ">>>fruit = Fru\n",
    "\"\"\"\n",
    "post_test_title = Post.objects.create(title=\"ok\")\n",
    "post_test_title.title = \"super\"\n",
    "post_test_title.save()"
   ]
  },
  {
   "cell_type": "code",
   "execution_count": 3,
   "id": "467cf336",
   "metadata": {},
   "outputs": [
    {
     "data": {
      "text/plain": [
       "<QuerySet ['super']>"
      ]
     },
     "execution_count": 3,
     "metadata": {},
     "output_type": "execute_result"
    }
   ],
   "source": [
    "Post.objects.values_list(\"title\", flat=True)"
   ]
  },
  {
   "cell_type": "code",
   "execution_count": null,
   "id": "b246cdb4",
   "metadata": {},
   "outputs": [],
   "source": []
  }
 ],
 "metadata": {
  "kernelspec": {
   "display_name": "Django Shell-Plus",
   "language": "python",
   "name": "django_extensions"
  },
  "language_info": {
   "codemirror_mode": {
    "name": "ipython",
    "version": 3
   },
   "file_extension": ".py",
   "mimetype": "text/x-python",
   "name": "python",
   "nbconvert_exporter": "python",
   "pygments_lexer": "ipython3",
   "version": "3.10.11"
  }
 },
 "nbformat": 4,
 "nbformat_minor": 5
}
